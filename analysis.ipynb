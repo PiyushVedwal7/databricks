{
 "cells": [
  {
   "cell_type": "code",
   "execution_count": 2,
   "metadata": {},
   "outputs": [],
   "source": [
    "from pyspark.sql import SparkSession"
   ]
  },
  {
   "cell_type": "code",
   "execution_count": 3,
   "metadata": {},
   "outputs": [],
   "source": [
    "from pyspark.sql.types import StructType, StructField, StringType, DoubleType"
   ]
  },
  {
   "cell_type": "code",
   "execution_count": 4,
   "metadata": {},
   "outputs": [],
   "source": [
    "spark = SparkSession.builder \\\n",
    "    .appName(\"ReadCSVExample\") \\\n",
    "    .getOrCreate()"
   ]
  },
  {
   "cell_type": "code",
   "execution_count": 5,
   "metadata": {},
   "outputs": [],
   "source": [
    "csv_file_path = r\"every hour data\\part-00000-f211c25b-8b92-44e4-8d02-486967780ead-c000.csv\""
   ]
  },
  {
   "cell_type": "code",
   "execution_count": 6,
   "metadata": {},
   "outputs": [],
   "source": [
    "schema = StructType([\n",
    "    StructField(\"sensor_id\", StringType(), True),\n",
    "    StructField(\"timestamp\", StringType(), True),\n",
    "    StructField(\"soil_moisture\", DoubleType(), True),\n",
    "    StructField(\"soil_ph\", DoubleType(), True),\n",
    "    StructField(\"soil_temperature\", DoubleType(), True)\n",
    "])"
   ]
  },
  {
   "cell_type": "code",
   "execution_count": 7,
   "metadata": {},
   "outputs": [],
   "source": [
    "df = spark.read.csv(csv_file_path, header=True, schema=schema)"
   ]
  },
  {
   "cell_type": "code",
   "execution_count": 8,
   "metadata": {},
   "outputs": [
    {
     "name": "stdout",
     "output_type": "stream",
     "text": [
      "+---------+--------------------+-------------+-------+----------------+\n",
      "|sensor_id|           timestamp|soil_moisture|soil_ph|soil_temperature|\n",
      "+---------+--------------------+-------------+-------+----------------+\n",
      "|        7|1.7269884168436441E9|        31.35|   8.76|            25.8|\n",
      "|       10|1.7269884268466148E9|        37.81|   5.75|           29.99|\n",
      "|       10|1.7269884368508554E9|        31.81|   6.56|           25.98|\n",
      "|        2|1.7269884468566098E9|        14.05|   6.85|           19.97|\n",
      "|        5|1.7269884568605323E9|        18.03|   8.46|           28.36|\n",
      "|        7|1.7269884668670003E9|        36.36|   7.78|           16.02|\n",
      "|        1| 1.726988476871094E9|        23.35|   5.54|           19.33|\n",
      "|        2|1.7269884868743281E9|        24.92|   7.94|           23.93|\n",
      "|        4|1.7269884968791952E9|        34.74|   8.98|           17.89|\n",
      "|        5|1.7269885068842902E9|        48.52|   6.23|           19.72|\n",
      "|        8|1.7269885168880794E9|        11.17|   7.89|           31.64|\n",
      "|        1| 1.726988526891805E9|         35.9|   5.43|           24.76|\n",
      "|        1|1.7269885368968053E9|        13.54|   6.72|           34.02|\n",
      "|        1| 1.726988546900475E9|        37.16|   7.52|           32.05|\n",
      "|        4|1.7269885569043381E9|        32.32|   8.82|           30.01|\n",
      "|        6| 1.726988566910801E9|         47.6|   5.27|           23.54|\n",
      "|        3|1.7269885769140496E9|        10.03|    6.2|           22.15|\n",
      "|        1|1.7269885869166465E9|        39.13|   5.19|           20.23|\n",
      "|       10| 1.726988596920511E9|        44.84|   8.06|           15.58|\n",
      "|        8|1.7269886069250138E9|        48.49|   7.38|           20.94|\n",
      "+---------+--------------------+-------------+-------+----------------+\n",
      "only showing top 20 rows\n",
      "\n"
     ]
    }
   ],
   "source": [
    "df.show()"
   ]
  },
  {
   "cell_type": "code",
   "execution_count": 9,
   "metadata": {},
   "outputs": [],
   "source": [
    "df.createOrReplaceTempView(\"soil_data\")"
   ]
  },
  {
   "cell_type": "code",
   "execution_count": 10,
   "metadata": {},
   "outputs": [],
   "source": [
    "alert=spark.sql(\" select * from soil_data where soil_moisture <30.00 or soil_temperature>30.00\")"
   ]
  },
  {
   "cell_type": "code",
   "execution_count": 11,
   "metadata": {},
   "outputs": [
    {
     "name": "stdout",
     "output_type": "stream",
     "text": [
      "+---------+--------------------+-------------+-------+----------------+\n",
      "|sensor_id|           timestamp|soil_moisture|soil_ph|soil_temperature|\n",
      "+---------+--------------------+-------------+-------+----------------+\n",
      "|        2|1.7269884468566098E9|        14.05|   6.85|           19.97|\n",
      "|        5|1.7269884568605323E9|        18.03|   8.46|           28.36|\n",
      "|        1| 1.726988476871094E9|        23.35|   5.54|           19.33|\n",
      "|        2|1.7269884868743281E9|        24.92|   7.94|           23.93|\n",
      "|        8|1.7269885168880794E9|        11.17|   7.89|           31.64|\n",
      "|        1|1.7269885368968053E9|        13.54|   6.72|           34.02|\n",
      "|        1| 1.726988546900475E9|        37.16|   7.52|           32.05|\n",
      "|        4|1.7269885569043381E9|        32.32|   8.82|           30.01|\n",
      "|        3|1.7269885769140496E9|        10.03|    6.2|           22.15|\n",
      "|        4| 1.726988626932466E9|        29.34|   8.71|           15.56|\n",
      "|        7|1.7269886469400818E9|         25.4|   7.55|           34.67|\n",
      "|       10|1.7269886569438086E9|         26.4|   5.01|           15.15|\n",
      "|        2|1.7269886669476874E9|        42.21|   5.95|           32.83|\n",
      "|        2|1.7269886769512796E9|        15.32|   7.83|           21.94|\n",
      "|        6|1.7269886869552796E9|         13.6|   8.31|            29.7|\n",
      "|        8|1.7269886969577417E9|        25.84|   5.87|           15.89|\n",
      "|        3|  1.72698870696671E9|        40.85|   7.23|           30.05|\n",
      "|        7|1.7269887169698932E9|        24.85|   8.16|           21.97|\n",
      "|        5|1.7269887269811177E9|        14.41|   8.26|           27.57|\n",
      "|        6|1.7269887369861715E9|        14.06|   5.55|           34.02|\n",
      "+---------+--------------------+-------------+-------+----------------+\n",
      "only showing top 20 rows\n",
      "\n"
     ]
    }
   ],
   "source": [
    "alert.show()"
   ]
  },
  {
   "cell_type": "code",
   "execution_count": null,
   "metadata": {},
   "outputs": [],
   "source": []
  }
 ],
 "metadata": {
  "kernelspec": {
   "display_name": "Python 3",
   "language": "python",
   "name": "python3"
  },
  "language_info": {
   "codemirror_mode": {
    "name": "ipython",
    "version": 3
   },
   "file_extension": ".py",
   "mimetype": "text/x-python",
   "name": "python",
   "nbconvert_exporter": "python",
   "pygments_lexer": "ipython3",
   "version": "3.12.2"
  }
 },
 "nbformat": 4,
 "nbformat_minor": 2
}
